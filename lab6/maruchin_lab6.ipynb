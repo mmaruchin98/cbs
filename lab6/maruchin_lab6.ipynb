{
  "nbformat": 4,
  "nbformat_minor": 0,
  "metadata": {
    "colab": {
      "name": "maruchin_lab6.ipynb",
      "provenance": [],
      "collapsed_sections": []
    },
    "kernelspec": {
      "name": "python3",
      "display_name": "Python 3"
    },
    "language_info": {
      "name": "python"
    }
  },
  "cells": [
    {
      "cell_type": "code",
      "metadata": {
        "id": "stkFl63zrez7"
      },
      "source": [
        "import tensorflow as tf\n",
        "from tensorflow.keras import layers\n",
        "from tensorflow.keras import models\n",
        "import numpy as np\n",
        "import tensorflow.keras as keras\n",
        "import matplotlib.pyplot as plt\n",
        "from tensorflow.keras.utils import to_categorical\n"
      ],
      "execution_count": 1,
      "outputs": []
    },
    {
      "cell_type": "code",
      "metadata": {
        "colab": {
          "base_uri": "https://localhost:8080/"
        },
        "id": "nAQF6iFSsVgl",
        "outputId": "fc576ecf-9f32-4d1e-cf7b-2741950490d6"
      },
      "source": [
        "\n",
        "(train_mnist_img, train_mnist_label), (test_mnist_img, test_mnist_label) = keras.datasets.fashion_mnist.load_data()"
      ],
      "execution_count": 2,
      "outputs": [
        {
          "output_type": "stream",
          "text": [
            "Downloading data from https://storage.googleapis.com/tensorflow/tf-keras-datasets/train-labels-idx1-ubyte.gz\n",
            "32768/29515 [=================================] - 0s 0us/step\n",
            "Downloading data from https://storage.googleapis.com/tensorflow/tf-keras-datasets/train-images-idx3-ubyte.gz\n",
            "26427392/26421880 [==============================] - 0s 0us/step\n",
            "Downloading data from https://storage.googleapis.com/tensorflow/tf-keras-datasets/t10k-labels-idx1-ubyte.gz\n",
            "8192/5148 [===============================================] - 0s 0us/step\n",
            "Downloading data from https://storage.googleapis.com/tensorflow/tf-keras-datasets/t10k-images-idx3-ubyte.gz\n",
            "4423680/4422102 [==============================] - 0s 0us/step\n"
          ],
          "name": "stdout"
        }
      ]
    },
    {
      "cell_type": "code",
      "metadata": {
        "id": "7ouvajMQsaf0"
      },
      "source": [
        "modeld = models.Sequential()\n",
        "modeld.add(layers.Dense(512, activation='relu', input_shape=(28 * 28,)))\n",
        "modeld.add(layers.Dense(10, activation='softmax'))\n",
        "modeld.compile(optimizer='rmsprop',\n",
        "loss='mean_squared_error',\n",
        "metrics=['accuracy'])"
      ],
      "execution_count": 4,
      "outputs": []
    },
    {
      "cell_type": "code",
      "metadata": {
        "id": "YG6g7OfYscPt"
      },
      "source": [
        "train_mnist_img_norm = train_mnist_img.reshape((60000, 28 * 28))\n",
        "train_mnist_img_flat = train_mnist_img_norm.astype('float32') / 255\n",
        "\n",
        "test_mnist_img_norm = test_mnist_img.reshape((10000, 28 * 28))\n",
        "test_mnist_img_flat = test_mnist_img_norm.astype('float32') / 255"
      ],
      "execution_count": 5,
      "outputs": []
    },
    {
      "cell_type": "code",
      "metadata": {
        "id": "_Lj6uF6xsexU"
      },
      "source": [
        "modeld.compile(optimizer='rmsprop',\n",
        "loss='categorical_crossentropy',\n",
        "metrics=['accuracy'])"
      ],
      "execution_count": 6,
      "outputs": []
    },
    {
      "cell_type": "code",
      "metadata": {
        "id": "lPKFUWB6sf1o"
      },
      "source": [
        "train_mnist_label = to_categorical(train_mnist_label)\n",
        "test_mnist_label = to_categorical(test_mnist_label)"
      ],
      "execution_count": 7,
      "outputs": []
    },
    {
      "cell_type": "code",
      "metadata": {
        "colab": {
          "base_uri": "https://localhost:8080/"
        },
        "id": "3wEX4LxBsguD",
        "outputId": "49daaaf3-43b9-4d7c-b379-47d36831f584"
      },
      "source": [
        "modeld.fit(train_mnist_img_flat, train_mnist_label, epochs=5, batch_size=128)"
      ],
      "execution_count": 8,
      "outputs": [
        {
          "output_type": "stream",
          "text": [
            "Epoch 1/5\n",
            "469/469 [==============================] - 5s 10ms/step - loss: 0.7595 - accuracy: 0.7404\n",
            "Epoch 2/5\n",
            "469/469 [==============================] - 5s 10ms/step - loss: 0.3980 - accuracy: 0.8556\n",
            "Epoch 3/5\n",
            "469/469 [==============================] - 5s 10ms/step - loss: 0.3463 - accuracy: 0.8728\n",
            "Epoch 4/5\n",
            "469/469 [==============================] - 5s 10ms/step - loss: 0.3116 - accuracy: 0.8851\n",
            "Epoch 5/5\n",
            "469/469 [==============================] - 5s 10ms/step - loss: 0.2918 - accuracy: 0.8937\n"
          ],
          "name": "stdout"
        },
        {
          "output_type": "execute_result",
          "data": {
            "text/plain": [
              "<tensorflow.python.keras.callbacks.History at 0x7fd7380414d0>"
            ]
          },
          "metadata": {
            "tags": []
          },
          "execution_count": 8
        }
      ]
    },
    {
      "cell_type": "code",
      "metadata": {
        "colab": {
          "base_uri": "https://localhost:8080/"
        },
        "id": "JtwQBdZvshtW",
        "outputId": "32b1462f-b7f2-4e87-dec7-16e27c5c14c9"
      },
      "source": [
        "train_loss, train_acc = modeld.evaluate(train_mnist_img_flat, train_mnist_label)\n",
        "test_loss, test_acc = modeld.evaluate(test_mnist_img_flat, test_mnist_label)"
      ],
      "execution_count": 9,
      "outputs": [
        {
          "output_type": "stream",
          "text": [
            "1875/1875 [==============================] - 4s 2ms/step - loss: 0.3002 - accuracy: 0.8907\n",
            "313/313 [==============================] - 1s 3ms/step - loss: 0.3845 - accuracy: 0.8666\n"
          ],
          "name": "stdout"
        }
      ]
    },
    {
      "cell_type": "code",
      "metadata": {
        "id": "Rm9TVKHfsi5A",
        "colab": {
          "base_uri": "https://localhost:8080/"
        },
        "outputId": "90f3b6b8-482f-4c61-a328-16654ecce8fc"
      },
      "source": [
        "print('test_acc:', test_acc)\n",
        "print('train_acc:', test_acc)"
      ],
      "execution_count": 10,
      "outputs": [
        {
          "output_type": "stream",
          "text": [
            "test_acc: 0.866599977016449\n",
            "train_acc: 0.866599977016449\n"
          ],
          "name": "stdout"
        }
      ]
    },
    {
      "cell_type": "code",
      "metadata": {
        "id": "d08GVQxww7Pr",
        "colab": {
          "base_uri": "https://localhost:8080/",
          "height": 283
        },
        "outputId": "f31904aa-2585-4d80-e31b-cea3043393ae"
      },
      "source": [
        "pred = modeld.predict(test_mnist_img_flat[:12])\n",
        "img_num =15\n",
        "print(test_mnist_label[img_num])\n",
        "plt.imshow(test_mnist_img[img_num], cmap=plt.get_cmap('gray'))\n",
        "plt.show()"
      ],
      "execution_count": 18,
      "outputs": [
        {
          "output_type": "stream",
          "text": [
            "[0. 1. 0. 0. 0. 0. 0. 0. 0. 0.]\n"
          ],
          "name": "stdout"
        },
        {
          "output_type": "display_data",
          "data": {
            "image/png": "[encoded data removed]",
            "text/plain": [
              "<Figure size 432x288 with 1 Axes>"
            ]
          },
          "metadata": {
            "tags": [],
            "needs_background": "light"
          }
        }
      ]
    },
    {
      "cell_type": "code",
      "metadata": {
        "id": "FRFxqFE6w8xl"
      },
      "source": [
        "model2 = models.Sequential()\n",
        "model2.add(layers.Conv2D(32, (3, 3), activation='relu', input_shape=(28, 28, 1)))\n",
        "model2.add(layers.MaxPooling2D((2, 2)))\n",
        "model2.add(layers.Conv2D(64, (3, 3), activation='relu'))\n",
        "model2.add(layers.MaxPooling2D((2, 2)))\n",
        "model2.add(layers.Conv2D(64, (3, 3), activation='relu'))\n",
        "model2.add(layers.Flatten())\n",
        "model2.add(layers.Dense(64, activation='relu'))\n",
        "model2.add(layers.Dense(10, activation='softmax'))"
      ],
      "execution_count": 20,
      "outputs": []
    },
    {
      "cell_type": "code",
      "metadata": {
        "id": "n3AL-kMLw-VB"
      },
      "source": [
        "train2_mnist_img_norm = train_mnist_img.reshape((60000, 28 , 28, 1))\n",
        "train2_mnist_img_flat = train2_mnist_img_norm.astype('float32') / 255\n",
        "\n",
        "test2_mnist_img_norm = test_mnist_img.reshape((10000, 28 , 28, 1))\n",
        "test2_mnist_img_flat = test2_mnist_img_norm.astype('float32') / 255"
      ],
      "execution_count": 21,
      "outputs": []
    },
    {
      "cell_type": "code",
      "metadata": {
        "id": "nqdJxSQnw_2X"
      },
      "source": [
        "model2.compile(optimizer='rmsprop', loss='categorical_crossentropy', metrics=['accuracy'])"
      ],
      "execution_count": 22,
      "outputs": []
    },
    {
      "cell_type": "code",
      "metadata": {
        "colab": {
          "base_uri": "https://localhost:8080/"
        },
        "id": "J-yQfocVxBdb",
        "outputId": "ef723d9c-40c9-4aa7-eb24-861551a59967"
      },
      "source": [
        "model2.fit(train2_mnist_img_flat, train_mnist_label, epochs=10, batch_size=64)"
      ],
      "execution_count": 23,
      "outputs": [
        {
          "output_type": "stream",
          "text": [
            "Epoch 1/10\n",
            "938/938 [==============================] - 52s 55ms/step - loss: 0.7413 - accuracy: 0.7248\n",
            "Epoch 2/10\n",
            "938/938 [==============================] - 52s 55ms/step - loss: 0.3457 - accuracy: 0.8729\n",
            "Epoch 3/10\n",
            "938/938 [==============================] - 52s 56ms/step - loss: 0.2811 - accuracy: 0.8961\n",
            "Epoch 4/10\n",
            "938/938 [==============================] - 52s 56ms/step - loss: 0.2473 - accuracy: 0.9087\n",
            "Epoch 5/10\n",
            "938/938 [==============================] - 53s 56ms/step - loss: 0.2289 - accuracy: 0.9155\n",
            "Epoch 6/10\n",
            "938/938 [==============================] - 52s 56ms/step - loss: 0.2025 - accuracy: 0.9241\n",
            "Epoch 7/10\n",
            "938/938 [==============================] - 52s 55ms/step - loss: 0.1854 - accuracy: 0.9316\n",
            "Epoch 8/10\n",
            "938/938 [==============================] - 52s 55ms/step - loss: 0.1728 - accuracy: 0.9354\n",
            "Epoch 9/10\n",
            "938/938 [==============================] - 52s 55ms/step - loss: 0.1599 - accuracy: 0.9403\n",
            "Epoch 10/10\n",
            "938/938 [==============================] - 52s 55ms/step - loss: 0.1478 - accuracy: 0.9446\n"
          ],
          "name": "stdout"
        },
        {
          "output_type": "execute_result",
          "data": {
            "text/plain": [
              "<tensorflow.python.keras.callbacks.History at 0x7fd730a9d550>"
            ]
          },
          "metadata": {
            "tags": []
          },
          "execution_count": 23
        }
      ]
    },
    {
      "cell_type": "code",
      "metadata": {
        "colab": {
          "base_uri": "https://localhost:8080/"
        },
        "id": "egOvvwNzxDtH",
        "outputId": "37d77b80-7b39-4d23-fd3d-d366fdb2b2da"
      },
      "source": [
        "train2_loss, train2_acc = model2.evaluate(train2_mnist_img_flat, train_mnist_label)\n",
        "test2_loss, test2_acc = model2.evaluate(test2_mnist_img_flat, test_mnist_label)"
      ],
      "execution_count": 26,
      "outputs": [
        {
          "output_type": "stream",
          "text": [
            "1875/1875 [==============================] - 18s 10ms/step - loss: 0.1344 - accuracy: 0.9508\n",
            "313/313 [==============================] - 3s 10ms/step - loss: 0.2968 - accuracy: 0.9095\n"
          ],
          "name": "stdout"
        }
      ]
    },
    {
      "cell_type": "code",
      "metadata": {
        "colab": {
          "base_uri": "https://localhost:8080/"
        },
        "id": "DcqQtmq5xExj",
        "outputId": "390381d9-411a-42f2-9e7f-b2fed141dfd9"
      },
      "source": [
        "print('Train2_accuracy:', train2_acc)\n",
        "print('Test2_accuracy:', test2_acc)\n",
        "print('Train_accuracy:', train_acc)\n",
        "print('Test_accuracy:',test_acc)"
      ],
      "execution_count": 28,
      "outputs": [
        {
          "output_type": "stream",
          "text": [
            "Train2_accuracy: 0.9507666826248169\n",
            "Test2_accuracy: 0.909500002861023\n",
            "Train_accuracy: 0.890666663646698\n",
            "Test_accuracy: 0.866599977016449\n"
          ],
          "name": "stdout"
        }
      ]
    },
    {
      "cell_type": "code",
      "metadata": {
        "colab": {
          "base_uri": "https://localhost:8080/"
        },
        "id": "uWhdc9TJxGFL",
        "outputId": "15358338-e6b9-4c42-e933-9df5d3b5a064"
      },
      "source": [
        "from tensorflow.keras.callbacks import EarlyStopping\n",
        "modelb = models.Sequential()\n",
        "modelb.add(layers.Conv2D(32, (3, 3), activation='relu', input_shape=(28, 28, 1)))\n",
        "modelb.add(layers.MaxPooling2D((2, 2)))\n",
        "modelb.add(layers.Conv2D(64, (3, 3), activation='relu'))\n",
        "modelb.add(layers.Flatten())\n",
        "modelb.add(layers.Dense(64, activation='relu'))\n",
        "modelb.add(layers.Dense(10, activation='softmax'))\n",
        "\n",
        "modelb.summary(line_length=None, positions=None, print_fn=None)\n",
        "\n",
        "\n",
        "modelb.compile(loss='categorical_crossentropy', optimizer='rmsprop', metrics=['accuracy'])\n",
        "#deleting 3 layers and applying early stopping \n",
        "trained_models = modelb.fit(train2_mnist_img_flat, train_mnist_label, epochs=30, batch_size=128, validation_data=(test2_mnist_img_flat, test_mnist_label), \n",
        "\n",
        "callbacks = [EarlyStopping(monitor='val_accuracy', patience=3)])"
      ],
      "execution_count": 32,
      "outputs": [
        {
          "output_type": "stream",
          "text": [
            "Model: \"sequential_6\"\n",
            "_________________________________________________________________\n",
            "Layer (type)                 Output Shape              Param #   \n",
            "=================================================================\n",
            "conv2d_10 (Conv2D)           (None, 26, 26, 32)        320       \n",
            "_________________________________________________________________\n",
            "max_pooling2d_6 (MaxPooling2 (None, 13, 13, 32)        0         \n",
            "_________________________________________________________________\n",
            "conv2d_11 (Conv2D)           (None, 11, 11, 64)        18496     \n",
            "_________________________________________________________________\n",
            "flatten_4 (Flatten)          (None, 7744)              0         \n",
            "_________________________________________________________________\n",
            "dense_12 (Dense)             (None, 64)                495680    \n",
            "_________________________________________________________________\n",
            "dense_13 (Dense)             (None, 10)                650       \n",
            "=================================================================\n",
            "Total params: 515,146\n",
            "Trainable params: 515,146\n",
            "Non-trainable params: 0\n",
            "_________________________________________________________________\n",
            "Epoch 1/30\n",
            "469/469 [==============================] - 48s 102ms/step - loss: 0.6839 - accuracy: 0.7529 - val_loss: 0.3263 - val_accuracy: 0.8847\n",
            "Epoch 2/30\n",
            "469/469 [==============================] - 48s 102ms/step - loss: 0.3022 - accuracy: 0.8903 - val_loss: 0.2946 - val_accuracy: 0.8890\n",
            "Epoch 3/30\n",
            "469/469 [==============================] - 48s 101ms/step - loss: 0.2462 - accuracy: 0.9100 - val_loss: 0.2916 - val_accuracy: 0.8920\n",
            "Epoch 4/30\n",
            "469/469 [==============================] - 48s 102ms/step - loss: 0.2068 - accuracy: 0.9241 - val_loss: 0.2377 - val_accuracy: 0.9157\n",
            "Epoch 5/30\n",
            "469/469 [==============================] - 48s 102ms/step - loss: 0.1750 - accuracy: 0.9357 - val_loss: 0.2470 - val_accuracy: 0.9112\n",
            "Epoch 6/30\n",
            "469/469 [==============================] - 48s 102ms/step - loss: 0.1543 - accuracy: 0.9437 - val_loss: 0.2428 - val_accuracy: 0.9160\n",
            "Epoch 7/30\n",
            "469/469 [==============================] - 48s 102ms/step - loss: 0.1361 - accuracy: 0.9501 - val_loss: 0.2359 - val_accuracy: 0.9166\n",
            "Epoch 8/30\n",
            "469/469 [==============================] - 48s 103ms/step - loss: 0.1176 - accuracy: 0.9585 - val_loss: 0.2325 - val_accuracy: 0.9232\n",
            "Epoch 9/30\n",
            "469/469 [==============================] - 48s 102ms/step - loss: 0.1018 - accuracy: 0.9629 - val_loss: 0.2380 - val_accuracy: 0.9230\n",
            "Epoch 10/30\n",
            "469/469 [==============================] - 48s 102ms/step - loss: 0.0862 - accuracy: 0.9689 - val_loss: 0.2803 - val_accuracy: 0.9184\n",
            "Epoch 11/30\n",
            "469/469 [==============================] - 48s 102ms/step - loss: 0.0795 - accuracy: 0.9715 - val_loss: 0.2462 - val_accuracy: 0.9232\n"
          ],
          "name": "stdout"
        }
      ]
    },
    {
      "cell_type": "code",
      "metadata": {
        "colab": {
          "base_uri": "https://localhost:8080/"
        },
        "id": "MmihZAmixHgX",
        "outputId": "bc67e7d0-565c-4efd-97a8-2179cd768070"
      },
      "source": [
        "trainb_loss, trainb_acc = modelb.evaluate(train2_mnist_img_flat, train_mnist_label)\n",
        "testb_loss, testb_acc = modelb.evaluate(test2_mnist_img_flat, test_mnist_label)"
      ],
      "execution_count": 34,
      "outputs": [
        {
          "output_type": "stream",
          "text": [
            "1875/1875 [==============================] - 19s 10ms/step - loss: 0.0579 - accuracy: 0.9818\n",
            "313/313 [==============================] - 3s 9ms/step - loss: 0.2462 - accuracy: 0.9232\n"
          ],
          "name": "stdout"
        }
      ]
    },
    {
      "cell_type": "code",
      "metadata": {
        "colab": {
          "base_uri": "https://localhost:8080/"
        },
        "id": "pqxctjklxJ5f",
        "outputId": "14143898-9965-4bed-a161-8e87d1cb7f83"
      },
      "source": [
        "print('Test_accuracy:', test_acc)\n",
        "print('Train_accuracy:', test_acc)\n",
        "print('')\n",
        "print('Train2_accuracy:', train2_acc)\n",
        "print('Test2_accuracy:', test2_acc)\n",
        "print('')\n",
        "print('Trainb_accuracy:', trainb_acc)\n",
        "print('Testb_accuracy:', testb_acc)\n",
        "print('')\n",
        "print('Better:', trainb_acc - train2_acc)"
      ],
      "execution_count": 38,
      "outputs": [
        {
          "output_type": "stream",
          "text": [
            "Test_accuracy: 0.866599977016449\n",
            "Train_accuracy: 0.866599977016449\n",
            "\n",
            "Train2_accuracy: 0.9507666826248169\n",
            "Test2_accuracy: 0.909500002861023\n",
            "\n",
            "Trainb_accuracy: 0.9817500114440918\n",
            "Testb_accuracy: 0.9232000112533569\n",
            "\n",
            "Better: 0.030983328819274902\n"
          ],
          "name": "stdout"
        }
      ]
    },
    {
      "cell_type": "code",
      "metadata": {
        "id": "2LI3uBRYu2A4"
      },
      "source": [
        "\n"
      ],
      "execution_count": 52,
      "outputs": []
    },
    {
      "cell_type": "code",
      "metadata": {
        "id": "qpyHh9S-v3H6"
      },
      "source": [
        ""
      ],
      "execution_count": 52,
      "outputs": []
    },
    {
      "cell_type": "code",
      "metadata": {
        "id": "bDk2JFT75d9L"
      },
      "source": [
        ""
      ],
      "execution_count": null,
      "outputs": []
    }
  ]
}